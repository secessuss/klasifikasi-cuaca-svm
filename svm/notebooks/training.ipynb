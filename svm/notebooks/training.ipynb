{
 "cells": [
  {
   "cell_type": "markdown",
   "id": "d29b82d0",
   "metadata": {},
   "source": [
    "# Pelatihan, Tuning, dan Evaluasi Model"
   ]
  },
  {
   "cell_type": "code",
   "execution_count": 5,
   "id": "3fd9ad09",
   "metadata": {},
   "outputs": [],
   "source": [
    "import os\n",
    "import sys\n",
    "import cv2\n",
    "import joblib\n",
    "import numpy as np\n",
    "import matplotlib.pyplot as plt\n",
    "import matplotlib.image as mpimg\n",
    "from tqdm import tqdm\n",
    "from sklearn.model_selection import train_test_split, GridSearchCV\n",
    "from sklearn.base import BaseEstimator, ClassifierMixin\n",
    "from sklearn.pipeline import make_pipeline\n",
    "from sklearn.preprocessing import StandardScaler\n",
    "from sklearn.decomposition import PCA\n",
    "from sklearn.svm import SVC\n",
    "from skimage.feature import hog, local_binary_pattern\n",
    "\n",
    "sys.path.append(os.path.abspath(os.path.join(os.getcwd(), os.pardir)))\n",
    "from src.config import (\n",
    "    DATA_RAW_PATH, RESULTS_PATH, SAVED_MODEL_PATH, CLASSES, IMAGE_SIZE,\n",
    "    HOG_ORIENTATIONS, HOG_PIXELS_PER_CELL, HOG_CELLS_PER_BLOCK, \n",
    "    TEST_SIZE, RANDOM_STATE\n",
    ")\n",
    "from src.utils.logger import logger\n",
    "from src.utils.dataset_loader import load_images_from_folder\n",
    "from src.utils.metrics import evaluate_model, plot_confusion_matrix"
   ]
  },
  {
   "cell_type": "markdown",
   "id": "03337a72",
   "metadata": {},
   "source": [
    "## Contained Code"
   ]
  },
  {
   "cell_type": "code",
   "execution_count": 6,
   "id": "eba8386a",
   "metadata": {},
   "outputs": [],
   "source": [
    "def augment_image(image):\n",
    "    augmented_images = [image]\n",
    "    augmented_images.append(cv2.flip(image, 1))\n",
    "    augmented_images.append(np.clip(image * 1.2, 0, 255).astype(np.uint8))\n",
    "    augmented_images.append(np.clip(image * 0.8, 0, 255).astype(np.uint8))\n",
    "    return augmented_images\n",
    "\n",
    "def resize_image(image):\n",
    "    return cv2.resize(image, IMAGE_SIZE, interpolation=cv2.INTER_AREA)\n",
    "\n",
    "def to_grayscale(image):\n",
    "    return cv2.cvtColor(image, cv2.COLOR_BGR2GRAY)\n",
    "\n",
    "def normalize_image(image):\n",
    "    return image.astype('float32') / 255.0\n",
    "\n",
    "def preprocess_image_for_feature_extraction(image):\n",
    "    resized_color_uint8 = resize_image(image)\n",
    "    gray_image = to_grayscale(resized_color_uint8)\n",
    "    normalized_gray = normalize_image(gray_image)\n",
    "    normalized_color = normalize_image(resized_color_uint8)\n",
    "    return normalized_gray, normalized_color\n",
    "\n",
    "def extract_hog_features(gray_image):\n",
    "    return hog(gray_image, orientations=HOG_ORIENTATIONS, pixels_per_cell=HOG_PIXELS_PER_CELL,\n",
    "               cells_per_block=HOG_CELLS_PER_BLOCK, block_norm='L2-Hys', visualize=False, transform_sqrt=True)\n",
    "\n",
    "def extract_color_histogram(color_image):\n",
    "    hsv_image = cv2.cvtColor((color_image * 255).astype(np.uint8), cv2.COLOR_BGR2HSV)\n",
    "    hist_h = cv2.calcHist([hsv_image], [0], None, [180], [0, 180])\n",
    "    hist_s = cv2.calcHist([hsv_image], [1], None, [32], [0, 256])\n",
    "    hist_v = cv2.calcHist([hsv_image], [2], None, [32], [0, 256])\n",
    "    cv2.normalize(hist_h, hist_h)\n",
    "    cv2.normalize(hist_s, hist_s)\n",
    "    cv2.normalize(hist_v, hist_v)\n",
    "    return np.concatenate((hist_h, hist_s, hist_v)).flatten()\n",
    "\n",
    "def extract_lbp_features(gray_image):\n",
    "    gray_image_uint8 = (gray_image * 255).astype(np.uint8)\n",
    "    radius, n_points = 8, 24\n",
    "    lbp = local_binary_pattern(gray_image_uint8, n_points, radius, method='uniform')\n",
    "    (hist, _) = np.histogram(lbp.ravel(), bins=np.arange(0, n_points + 3), range=(0, n_points + 2))\n",
    "    hist = hist.astype(\"float\")\n",
    "    hist /= (hist.sum() + 1e-6)\n",
    "    return hist\n",
    "\n",
    "def extract_features(gray_image, color_image):\n",
    "    hog_features = extract_hog_features(gray_image)\n",
    "    color_hist_features = extract_color_histogram(color_image)\n",
    "    lbp_features = extract_lbp_features(gray_image)\n",
    "    return np.hstack([hog_features, color_hist_features, lbp_features])"
   ]
  },
  {
   "cell_type": "markdown",
   "id": "9ff36bc4",
   "metadata": {},
   "source": [
    "## Definisi Class `IntegratedClassifier`\n",
    "\n",
    "Class ini mewarisi dari `BaseEstimator` dan `ClassifierMixin` agar kompatibel dengan alat-alat scikit-learn seperti `GridSearchCV`.\n",
    "\n",
    "-   `fit()`: Menerima gambar mentah, melakukan semua proses ekstraksi fitur secara internal, lalu melatih pipeline SVM.\n",
    "-   `predict()`: Menerima gambar mentah, melakukan proses yang sama, dan mengembalikan prediksi."
   ]
  },
  {
   "cell_type": "code",
   "execution_count": 7,
   "id": "96669a16",
   "metadata": {},
   "outputs": [],
   "source": [
    "class IntegratedClassifier(BaseEstimator, ClassifierMixin):\n",
    "    \"\"\"\n",
    "    Pipeline terintegrasi yang menerima gambar mentah dan melakukan semua\n",
    "    langkah dari prapemrosesan hingga klasifikasi SVM.\n",
    "    \"\"\"\n",
    "    def __init__(self, C=1.0, gamma='scale'):\n",
    "        self.C = C\n",
    "        self.gamma = gamma\n",
    "        self.pipeline = make_pipeline(\n",
    "            StandardScaler(),\n",
    "            PCA(n_components=0.95, random_state=RANDOM_STATE),\n",
    "            SVC(kernel='rbf', C=self.C, gamma=self.gamma, probability=True, \n",
    "                random_state=RANDOM_STATE, class_weight='balanced')\n",
    "        )\n",
    "\n",
    "    def _preprocess_and_extract(self, X_raw):\n",
    "        feature_list = []\n",
    "        for image in tqdm(X_raw, desc=\"Feature Extraction\"):\n",
    "            gray_img, color_img = preprocess_image_for_feature_extraction(image)\n",
    "            features = extract_features(gray_img, color_img)\n",
    "            feature_list.append(features)\n",
    "        return np.array(feature_list)\n",
    "\n",
    "    def fit(self, X_raw, y):\n",
    "        X_features = self._preprocess_and_extract(X_raw)\n",
    "        logger.info(f\"Melatih pipeline pada matriks fitur berbentuk: {X_features.shape}\")\n",
    "        self.pipeline.fit(X_features, y)\n",
    "        return self\n",
    "\n",
    "    def predict(self, X_raw):\n",
    "        X_features = self._preprocess_and_extract(X_raw)\n",
    "        return self.pipeline.predict(X_features)\n",
    "\n",
    "    def predict_proba(self, X_raw):\n",
    "        X_features = self._preprocess_and_extract(X_raw)\n",
    "        return self.pipeline.predict_proba(X_features)"
   ]
  },
  {
   "cell_type": "code",
   "execution_count": 8,
   "id": "5c5bd018",
   "metadata": {},
   "outputs": [
    {
     "name": "stderr",
     "output_type": "stream",
     "text": [
      "2025-10-02 23:09:43,383 - INFO - dataset_loader - Memuat gambar dari 'c:\\Users\\HP\\Documents\\PythonProjects\\ML\\klasifikasi-cuaca-svm\\svm\\data\\raw'...\n",
      "Loading Cloudy: 100%|██████████| 300/300 [00:00<00:00, 404.76it/s]\n",
      "Loading Rain: 100%|██████████| 214/214 [00:01<00:00, 154.94it/s]\n",
      "Loading Shine: 100%|██████████| 252/252 [00:00<00:00, 375.28it/s]\n",
      "Loading Sunrise: 100%|██████████| 357/357 [00:02<00:00, 164.42it/s]\n",
      "2025-10-02 23:09:48,393 - INFO - dataset_loader - Total gambar yang berhasil dimuat (termasuk augmentasi): 1123\n",
      "2025-10-02 23:09:48,435 - INFO - 4222293455 - Data asli dibagi: 898 train, 225 test.\n",
      "2025-10-02 23:09:48,437 - INFO - 4222293455 - Menerapkan augmentasi pada data latih...\n",
      "Augmenting Training Data: 100%|██████████| 898/898 [00:16<00:00, 55.73it/s] \n",
      "2025-10-02 23:10:04,591 - INFO - 4222293455 - Ukuran data latih setelah augmentasi: 3592\n",
      "2025-10-02 23:10:04,628 - INFO - 4222293455 - ==================================================\n",
      "2025-10-02 23:10:04,667 - INFO - 4222293455 - MEMULAI TUNING HYPERPARAMETER UNTUK MODEL TERINTEGRASI\n",
      "2025-10-02 23:10:04,671 - INFO - 4222293455 - Parameter Grid yang Diuji: {'C': [1, 10, 50, 100], 'gamma': [0.01, 0.001, 0.005, 0.0001]}\n",
      "2025-10-02 23:10:04,676 - INFO - 4222293455 - ==================================================\n"
     ]
    },
    {
     "name": "stdout",
     "output_type": "stream",
     "text": [
      "Fitting 3 folds for each of 16 candidates, totalling 48 fits\n"
     ]
    },
    {
     "name": "stderr",
     "output_type": "stream",
     "text": [
      "Feature Extraction: 100%|██████████| 2394/2394 [00:35<00:00, 67.44it/s]\n",
      "2025-10-02 23:10:40,389 - INFO - 2471833750 - Melatih pipeline pada matriks fitur berbentuk: (2394, 8370)\n",
      "Feature Extraction: 100%|██████████| 1198/1198 [00:25<00:00, 47.37it/s]\n"
     ]
    },
    {
     "name": "stdout",
     "output_type": "stream",
     "text": [
      "[CV] END ....................................C=1, gamma=0.01; total time= 1.3min\n"
     ]
    },
    {
     "name": "stderr",
     "output_type": "stream",
     "text": [
      "Feature Extraction: 100%|██████████| 2395/2395 [00:33<00:00, 71.39it/s]\n",
      "2025-10-02 23:11:55,910 - INFO - 2471833750 - Melatih pipeline pada matriks fitur berbentuk: (2395, 8370)\n",
      "Feature Extraction: 100%|██████████| 1197/1197 [00:18<00:00, 64.64it/s]\n"
     ]
    },
    {
     "name": "stdout",
     "output_type": "stream",
     "text": [
      "[CV] END ....................................C=1, gamma=0.01; total time= 1.1min\n"
     ]
    },
    {
     "name": "stderr",
     "output_type": "stream",
     "text": [
      "Feature Extraction: 100%|██████████| 2395/2395 [00:34<00:00, 70.12it/s]\n",
      "2025-10-02 23:13:05,481 - INFO - 2471833750 - Melatih pipeline pada matriks fitur berbentuk: (2395, 8370)\n",
      "Feature Extraction: 100%|██████████| 1197/1197 [00:18<00:00, 63.49it/s]\n"
     ]
    },
    {
     "name": "stdout",
     "output_type": "stream",
     "text": [
      "[CV] END ....................................C=1, gamma=0.01; total time= 1.2min\n"
     ]
    },
    {
     "name": "stderr",
     "output_type": "stream",
     "text": [
      "Feature Extraction: 100%|██████████| 2394/2394 [00:34<00:00, 70.23it/s]\n",
      "2025-10-02 23:14:15,956 - INFO - 2471833750 - Melatih pipeline pada matriks fitur berbentuk: (2394, 8370)\n",
      "Feature Extraction: 100%|██████████| 1198/1198 [00:14<00:00, 84.80it/s]\n"
     ]
    },
    {
     "name": "stdout",
     "output_type": "stream",
     "text": [
      "[CV] END ...................................C=1, gamma=0.001; total time= 1.1min\n"
     ]
    },
    {
     "name": "stderr",
     "output_type": "stream",
     "text": [
      "Feature Extraction: 100%|██████████| 2395/2395 [00:25<00:00, 92.92it/s] \n",
      "2025-10-02 23:15:13,304 - INFO - 2471833750 - Melatih pipeline pada matriks fitur berbentuk: (2395, 8370)\n",
      "Feature Extraction: 100%|██████████| 1197/1197 [00:14<00:00, 82.08it/s]\n"
     ]
    },
    {
     "name": "stdout",
     "output_type": "stream",
     "text": [
      "[CV] END ...................................C=1, gamma=0.001; total time=  54.6s\n"
     ]
    },
    {
     "name": "stderr",
     "output_type": "stream",
     "text": [
      "Feature Extraction: 100%|██████████| 2395/2395 [00:25<00:00, 93.42it/s] \n",
      "2025-10-02 23:16:07,899 - INFO - 2471833750 - Melatih pipeline pada matriks fitur berbentuk: (2395, 8370)\n",
      "Feature Extraction: 100%|██████████| 1197/1197 [00:14<00:00, 83.27it/s]\n"
     ]
    },
    {
     "name": "stdout",
     "output_type": "stream",
     "text": [
      "[CV] END ...................................C=1, gamma=0.001; total time=  55.1s\n"
     ]
    },
    {
     "name": "stderr",
     "output_type": "stream",
     "text": [
      "Feature Extraction: 100%|██████████| 2394/2394 [00:26<00:00, 91.88it/s] \n",
      "2025-10-02 23:17:03,484 - INFO - 2471833750 - Melatih pipeline pada matriks fitur berbentuk: (2394, 8370)\n",
      "Feature Extraction: 100%|██████████| 1198/1198 [00:13<00:00, 85.97it/s]\n"
     ]
    },
    {
     "name": "stdout",
     "output_type": "stream",
     "text": [
      "[CV] END ...................................C=1, gamma=0.005; total time=  54.5s\n"
     ]
    },
    {
     "name": "stderr",
     "output_type": "stream",
     "text": [
      "Feature Extraction: 100%|██████████| 2395/2395 [00:25<00:00, 93.01it/s] \n",
      "2025-10-02 23:17:57,753 - INFO - 2471833750 - Melatih pipeline pada matriks fitur berbentuk: (2395, 8370)\n",
      "Feature Extraction: 100%|██████████| 1197/1197 [00:13<00:00, 88.22it/s]\n"
     ]
    },
    {
     "name": "stdout",
     "output_type": "stream",
     "text": [
      "[CV] END ...................................C=1, gamma=0.005; total time=  53.5s\n"
     ]
    },
    {
     "name": "stderr",
     "output_type": "stream",
     "text": [
      "Feature Extraction: 100%|██████████| 2395/2395 [00:25<00:00, 92.14it/s] \n",
      "2025-10-02 23:18:51,628 - INFO - 2471833750 - Melatih pipeline pada matriks fitur berbentuk: (2395, 8370)\n",
      "Feature Extraction: 100%|██████████| 1197/1197 [00:13<00:00, 86.64it/s]\n"
     ]
    },
    {
     "name": "stdout",
     "output_type": "stream",
     "text": [
      "[CV] END ...................................C=1, gamma=0.005; total time=  54.7s\n"
     ]
    },
    {
     "name": "stderr",
     "output_type": "stream",
     "text": [
      "Feature Extraction: 100%|██████████| 2394/2394 [00:25<00:00, 92.71it/s] \n",
      "2025-10-02 23:19:46,288 - INFO - 2471833750 - Melatih pipeline pada matriks fitur berbentuk: (2394, 8370)\n",
      "Feature Extraction: 100%|██████████| 1198/1198 [00:13<00:00, 87.98it/s]\n"
     ]
    },
    {
     "name": "stdout",
     "output_type": "stream",
     "text": [
      "[CV] END ..................................C=1, gamma=0.0001; total time=  53.8s\n"
     ]
    },
    {
     "name": "stderr",
     "output_type": "stream",
     "text": [
      "Feature Extraction: 100%|██████████| 2395/2395 [00:31<00:00, 77.03it/s] \n",
      "2025-10-02 23:20:45,445 - INFO - 2471833750 - Melatih pipeline pada matriks fitur berbentuk: (2395, 8370)\n",
      "Feature Extraction: 100%|██████████| 1197/1197 [00:13<00:00, 86.50it/s]\n"
     ]
    },
    {
     "name": "stdout",
     "output_type": "stream",
     "text": [
      "[CV] END ..................................C=1, gamma=0.0001; total time=  59.3s\n"
     ]
    },
    {
     "name": "stderr",
     "output_type": "stream",
     "text": [
      "Feature Extraction: 100%|██████████| 2395/2395 [00:25<00:00, 93.63it/s] \n",
      "2025-10-02 23:21:39,373 - INFO - 2471833750 - Melatih pipeline pada matriks fitur berbentuk: (2395, 8370)\n",
      "Feature Extraction: 100%|██████████| 1197/1197 [00:14<00:00, 85.41it/s]\n"
     ]
    },
    {
     "name": "stdout",
     "output_type": "stream",
     "text": [
      "[CV] END ..................................C=1, gamma=0.0001; total time=  54.8s\n"
     ]
    },
    {
     "name": "stderr",
     "output_type": "stream",
     "text": [
      "Feature Extraction: 100%|██████████| 2394/2394 [00:28<00:00, 83.91it/s]\n",
      "2025-10-02 23:22:37,285 - INFO - 2471833750 - Melatih pipeline pada matriks fitur berbentuk: (2394, 8370)\n",
      "Feature Extraction: 100%|██████████| 1198/1198 [00:15<00:00, 79.06it/s]\n"
     ]
    },
    {
     "name": "stdout",
     "output_type": "stream",
     "text": [
      "[CV] END ...................................C=10, gamma=0.01; total time=  58.5s\n"
     ]
    },
    {
     "name": "stderr",
     "output_type": "stream",
     "text": [
      "Feature Extraction: 100%|██████████| 2395/2395 [00:26<00:00, 90.03it/s]\n",
      "2025-10-02 23:23:33,951 - INFO - 2471833750 - Melatih pipeline pada matriks fitur berbentuk: (2395, 8370)\n",
      "Feature Extraction: 100%|██████████| 1197/1197 [00:15<00:00, 78.83it/s]\n"
     ]
    },
    {
     "name": "stdout",
     "output_type": "stream",
     "text": [
      "[CV] END ...................................C=10, gamma=0.01; total time=  56.6s\n"
     ]
    },
    {
     "name": "stderr",
     "output_type": "stream",
     "text": [
      "Feature Extraction: 100%|██████████| 2395/2395 [00:26<00:00, 90.62it/s]\n",
      "2025-10-02 23:24:30,490 - INFO - 2471833750 - Melatih pipeline pada matriks fitur berbentuk: (2395, 8370)\n",
      "Feature Extraction: 100%|██████████| 1197/1197 [00:14<00:00, 80.82it/s]\n"
     ]
    },
    {
     "name": "stdout",
     "output_type": "stream",
     "text": [
      "[CV] END ...................................C=10, gamma=0.01; total time=  56.8s\n"
     ]
    },
    {
     "name": "stderr",
     "output_type": "stream",
     "text": [
      "Feature Extraction: 100%|██████████| 2394/2394 [00:28<00:00, 82.59it/s]\n",
      "2025-10-02 23:25:29,986 - INFO - 2471833750 - Melatih pipeline pada matriks fitur berbentuk: (2394, 8370)\n",
      "Feature Extraction: 100%|██████████| 1198/1198 [00:19<00:00, 62.97it/s]\n"
     ]
    },
    {
     "name": "stdout",
     "output_type": "stream",
     "text": [
      "[CV] END ..................................C=10, gamma=0.001; total time= 1.1min\n"
     ]
    },
    {
     "name": "stderr",
     "output_type": "stream",
     "text": [
      "Feature Extraction: 100%|██████████| 2395/2395 [00:28<00:00, 85.15it/s]\n",
      "2025-10-02 23:26:34,050 - INFO - 2471833750 - Melatih pipeline pada matriks fitur berbentuk: (2395, 8370)\n",
      "Feature Extraction: 100%|██████████| 1197/1197 [00:14<00:00, 83.55it/s]\n"
     ]
    },
    {
     "name": "stdout",
     "output_type": "stream",
     "text": [
      "[CV] END ..................................C=10, gamma=0.001; total time=  57.2s\n"
     ]
    },
    {
     "name": "stderr",
     "output_type": "stream",
     "text": [
      "Feature Extraction: 100%|██████████| 2395/2395 [00:27<00:00, 86.34it/s] \n",
      "2025-10-02 23:27:31,006 - INFO - 2471833750 - Melatih pipeline pada matriks fitur berbentuk: (2395, 8370)\n",
      "Feature Extraction: 100%|██████████| 1197/1197 [00:14<00:00, 82.44it/s]\n"
     ]
    },
    {
     "name": "stdout",
     "output_type": "stream",
     "text": [
      "[CV] END ..................................C=10, gamma=0.001; total time=  58.7s\n"
     ]
    },
    {
     "name": "stderr",
     "output_type": "stream",
     "text": [
      "Feature Extraction: 100%|██████████| 2394/2394 [00:26<00:00, 89.53it/s]\n",
      "2025-10-02 23:28:28,774 - INFO - 2471833750 - Melatih pipeline pada matriks fitur berbentuk: (2394, 8370)\n",
      "Feature Extraction: 100%|██████████| 1198/1198 [00:13<00:00, 87.44it/s]\n"
     ]
    },
    {
     "name": "stdout",
     "output_type": "stream",
     "text": [
      "[CV] END ..................................C=10, gamma=0.005; total time=  55.3s\n"
     ]
    },
    {
     "name": "stderr",
     "output_type": "stream",
     "text": [
      "Feature Extraction: 100%|██████████| 2395/2395 [00:26<00:00, 91.91it/s] \n",
      "2025-10-02 23:29:23,520 - INFO - 2471833750 - Melatih pipeline pada matriks fitur berbentuk: (2395, 8370)\n",
      "Feature Extraction: 100%|██████████| 1197/1197 [00:13<00:00, 86.09it/s]\n"
     ]
    },
    {
     "name": "stdout",
     "output_type": "stream",
     "text": [
      "[CV] END ..................................C=10, gamma=0.005; total time=  55.0s\n"
     ]
    },
    {
     "name": "stderr",
     "output_type": "stream",
     "text": [
      "Feature Extraction: 100%|██████████| 2395/2395 [00:28<00:00, 85.13it/s]\n",
      "2025-10-02 23:30:20,713 - INFO - 2471833750 - Melatih pipeline pada matriks fitur berbentuk: (2395, 8370)\n",
      "Feature Extraction: 100%|██████████| 1197/1197 [00:13<00:00, 88.77it/s]\n"
     ]
    },
    {
     "name": "stdout",
     "output_type": "stream",
     "text": [
      "[CV] END ..................................C=10, gamma=0.005; total time=  57.2s\n"
     ]
    },
    {
     "name": "stderr",
     "output_type": "stream",
     "text": [
      "Feature Extraction: 100%|██████████| 2394/2394 [00:26<00:00, 89.21it/s]\n",
      "2025-10-02 23:31:16,740 - INFO - 2471833750 - Melatih pipeline pada matriks fitur berbentuk: (2394, 8370)\n",
      "Feature Extraction: 100%|██████████| 1198/1198 [00:13<00:00, 88.27it/s]\n"
     ]
    },
    {
     "name": "stdout",
     "output_type": "stream",
     "text": [
      "[CV] END .................................C=10, gamma=0.0001; total time=  55.0s\n"
     ]
    },
    {
     "name": "stderr",
     "output_type": "stream",
     "text": [
      "Feature Extraction: 100%|██████████| 2395/2395 [00:25<00:00, 92.76it/s] \n",
      "2025-10-02 23:32:10,864 - INFO - 2471833750 - Melatih pipeline pada matriks fitur berbentuk: (2395, 8370)\n",
      "Feature Extraction: 100%|██████████| 1197/1197 [00:13<00:00, 85.96it/s]\n"
     ]
    },
    {
     "name": "stdout",
     "output_type": "stream",
     "text": [
      "[CV] END .................................C=10, gamma=0.0001; total time=  55.1s\n"
     ]
    },
    {
     "name": "stderr",
     "output_type": "stream",
     "text": [
      "Feature Extraction: 100%|██████████| 2395/2395 [00:26<00:00, 90.11it/s]\n",
      "2025-10-02 23:33:06,813 - INFO - 2471833750 - Melatih pipeline pada matriks fitur berbentuk: (2395, 8370)\n",
      "Feature Extraction: 100%|██████████| 1197/1197 [00:13<00:00, 88.09it/s] \n"
     ]
    },
    {
     "name": "stdout",
     "output_type": "stream",
     "text": [
      "[CV] END .................................C=10, gamma=0.0001; total time=  55.7s\n"
     ]
    },
    {
     "name": "stderr",
     "output_type": "stream",
     "text": [
      "Feature Extraction: 100%|██████████| 2394/2394 [00:25<00:00, 92.31it/s] \n",
      "2025-10-02 23:34:02,013 - INFO - 2471833750 - Melatih pipeline pada matriks fitur berbentuk: (2394, 8370)\n",
      "Feature Extraction: 100%|██████████| 1198/1198 [00:12<00:00, 94.70it/s] \n"
     ]
    },
    {
     "name": "stdout",
     "output_type": "stream",
     "text": [
      "[CV] END ...................................C=50, gamma=0.01; total time=  53.6s\n"
     ]
    },
    {
     "name": "stderr",
     "output_type": "stream",
     "text": [
      "Feature Extraction: 100%|██████████| 2395/2395 [00:25<00:00, 93.74it/s] \n",
      "2025-10-02 23:34:55,327 - INFO - 2471833750 - Melatih pipeline pada matriks fitur berbentuk: (2395, 8370)\n",
      "Feature Extraction: 100%|██████████| 1197/1197 [00:13<00:00, 89.30it/s]\n"
     ]
    },
    {
     "name": "stdout",
     "output_type": "stream",
     "text": [
      "[CV] END ...................................C=50, gamma=0.01; total time=  53.7s\n"
     ]
    },
    {
     "name": "stderr",
     "output_type": "stream",
     "text": [
      "Feature Extraction: 100%|██████████| 2395/2395 [00:25<00:00, 94.11it/s] \n",
      "2025-10-02 23:35:49,041 - INFO - 2471833750 - Melatih pipeline pada matriks fitur berbentuk: (2395, 8370)\n",
      "Feature Extraction: 100%|██████████| 1197/1197 [00:13<00:00, 88.27it/s] \n"
     ]
    },
    {
     "name": "stdout",
     "output_type": "stream",
     "text": [
      "[CV] END ...................................C=50, gamma=0.01; total time=  54.6s\n"
     ]
    },
    {
     "name": "stderr",
     "output_type": "stream",
     "text": [
      "Feature Extraction: 100%|██████████| 2394/2394 [00:25<00:00, 93.54it/s] \n",
      "2025-10-02 23:36:43,885 - INFO - 2471833750 - Melatih pipeline pada matriks fitur berbentuk: (2394, 8370)\n",
      "Feature Extraction: 100%|██████████| 1198/1198 [00:12<00:00, 92.40it/s]\n"
     ]
    },
    {
     "name": "stdout",
     "output_type": "stream",
     "text": [
      "[CV] END ..................................C=50, gamma=0.001; total time=  53.1s\n"
     ]
    },
    {
     "name": "stderr",
     "output_type": "stream",
     "text": [
      "Feature Extraction: 100%|██████████| 2395/2395 [00:25<00:00, 95.24it/s] \n",
      "2025-10-02 23:37:36,718 - INFO - 2471833750 - Melatih pipeline pada matriks fitur berbentuk: (2395, 8370)\n",
      "Feature Extraction: 100%|██████████| 1197/1197 [00:13<00:00, 91.69it/s]\n"
     ]
    },
    {
     "name": "stdout",
     "output_type": "stream",
     "text": [
      "[CV] END ..................................C=50, gamma=0.001; total time=  53.0s\n"
     ]
    },
    {
     "name": "stderr",
     "output_type": "stream",
     "text": [
      "Feature Extraction: 100%|██████████| 2395/2395 [00:25<00:00, 94.02it/s] \n",
      "2025-10-02 23:38:30,060 - INFO - 2471833750 - Melatih pipeline pada matriks fitur berbentuk: (2395, 8370)\n",
      "Feature Extraction: 100%|██████████| 1197/1197 [00:13<00:00, 90.29it/s] \n"
     ]
    },
    {
     "name": "stdout",
     "output_type": "stream",
     "text": [
      "[CV] END ..................................C=50, gamma=0.001; total time=  53.9s\n"
     ]
    },
    {
     "name": "stderr",
     "output_type": "stream",
     "text": [
      "Feature Extraction: 100%|██████████| 2394/2394 [00:25<00:00, 92.39it/s] \n",
      "2025-10-02 23:39:24,490 - INFO - 2471833750 - Melatih pipeline pada matriks fitur berbentuk: (2394, 8370)\n",
      "Feature Extraction: 100%|██████████| 1198/1198 [00:12<00:00, 94.39it/s] \n"
     ]
    },
    {
     "name": "stdout",
     "output_type": "stream",
     "text": [
      "[CV] END ..................................C=50, gamma=0.005; total time=  53.2s\n"
     ]
    },
    {
     "name": "stderr",
     "output_type": "stream",
     "text": [
      "Feature Extraction: 100%|██████████| 2395/2395 [00:25<00:00, 93.99it/s] \n",
      "2025-10-02 23:40:17,386 - INFO - 2471833750 - Melatih pipeline pada matriks fitur berbentuk: (2395, 8370)\n",
      "Feature Extraction: 100%|██████████| 1197/1197 [00:13<00:00, 91.22it/s]\n"
     ]
    },
    {
     "name": "stdout",
     "output_type": "stream",
     "text": [
      "[CV] END ..................................C=50, gamma=0.005; total time=  52.9s\n"
     ]
    },
    {
     "name": "stderr",
     "output_type": "stream",
     "text": [
      "Feature Extraction: 100%|██████████| 2395/2395 [00:25<00:00, 95.31it/s] \n",
      "2025-10-02 23:41:10,075 - INFO - 2471833750 - Melatih pipeline pada matriks fitur berbentuk: (2395, 8370)\n",
      "Feature Extraction: 100%|██████████| 1197/1197 [00:12<00:00, 92.61it/s] \n"
     ]
    },
    {
     "name": "stdout",
     "output_type": "stream",
     "text": [
      "[CV] END ..................................C=50, gamma=0.005; total time=  53.2s\n"
     ]
    },
    {
     "name": "stderr",
     "output_type": "stream",
     "text": [
      "Feature Extraction: 100%|██████████| 2394/2394 [00:25<00:00, 93.62it/s] \n",
      "2025-10-02 23:42:03,844 - INFO - 2471833750 - Melatih pipeline pada matriks fitur berbentuk: (2394, 8370)\n",
      "Feature Extraction: 100%|██████████| 1198/1198 [00:12<00:00, 95.02it/s] \n"
     ]
    },
    {
     "name": "stdout",
     "output_type": "stream",
     "text": [
      "[CV] END .................................C=50, gamma=0.0001; total time=  52.5s\n"
     ]
    },
    {
     "name": "stderr",
     "output_type": "stream",
     "text": [
      "Feature Extraction: 100%|██████████| 2395/2395 [00:25<00:00, 94.65it/s] \n",
      "2025-10-02 23:42:56,161 - INFO - 2471833750 - Melatih pipeline pada matriks fitur berbentuk: (2395, 8370)\n",
      "Feature Extraction: 100%|██████████| 1197/1197 [00:13<00:00, 89.78it/s]\n"
     ]
    },
    {
     "name": "stdout",
     "output_type": "stream",
     "text": [
      "[CV] END .................................C=50, gamma=0.0001; total time=  53.3s\n"
     ]
    },
    {
     "name": "stderr",
     "output_type": "stream",
     "text": [
      "Feature Extraction: 100%|██████████| 2395/2395 [00:26<00:00, 89.75it/s]\n",
      "2025-10-02 23:43:50,905 - INFO - 2471833750 - Melatih pipeline pada matriks fitur berbentuk: (2395, 8370)\n",
      "Feature Extraction: 100%|██████████| 1197/1197 [00:13<00:00, 89.24it/s]\n"
     ]
    },
    {
     "name": "stdout",
     "output_type": "stream",
     "text": [
      "[CV] END .................................C=50, gamma=0.0001; total time=  55.4s\n"
     ]
    },
    {
     "name": "stderr",
     "output_type": "stream",
     "text": [
      "Feature Extraction: 100%|██████████| 2394/2394 [00:26<00:00, 90.56it/s]\n",
      "2025-10-02 23:44:46,120 - INFO - 2471833750 - Melatih pipeline pada matriks fitur berbentuk: (2394, 8370)\n",
      "Feature Extraction: 100%|██████████| 1198/1198 [00:13<00:00, 92.13it/s]\n"
     ]
    },
    {
     "name": "stdout",
     "output_type": "stream",
     "text": [
      "[CV] END ..................................C=100, gamma=0.01; total time=  54.3s\n"
     ]
    },
    {
     "name": "stderr",
     "output_type": "stream",
     "text": [
      "Feature Extraction: 100%|██████████| 2395/2395 [00:26<00:00, 91.78it/s] \n",
      "2025-10-02 23:45:40,184 - INFO - 2471833750 - Melatih pipeline pada matriks fitur berbentuk: (2395, 8370)\n",
      "Feature Extraction: 100%|██████████| 1197/1197 [00:13<00:00, 89.35it/s]\n"
     ]
    },
    {
     "name": "stdout",
     "output_type": "stream",
     "text": [
      "[CV] END ..................................C=100, gamma=0.01; total time=  54.1s\n"
     ]
    },
    {
     "name": "stderr",
     "output_type": "stream",
     "text": [
      "Feature Extraction: 100%|██████████| 2395/2395 [00:25<00:00, 92.29it/s] \n",
      "2025-10-02 23:46:34,210 - INFO - 2471833750 - Melatih pipeline pada matriks fitur berbentuk: (2395, 8370)\n",
      "Feature Extraction: 100%|██████████| 1197/1197 [00:13<00:00, 90.02it/s]\n"
     ]
    },
    {
     "name": "stdout",
     "output_type": "stream",
     "text": [
      "[CV] END ..................................C=100, gamma=0.01; total time=  54.7s\n"
     ]
    },
    {
     "name": "stderr",
     "output_type": "stream",
     "text": [
      "Feature Extraction: 100%|██████████| 2394/2394 [00:26<00:00, 89.95it/s] \n",
      "2025-10-02 23:47:29,652 - INFO - 2471833750 - Melatih pipeline pada matriks fitur berbentuk: (2394, 8370)\n",
      "Feature Extraction: 100%|██████████| 1198/1198 [00:13<00:00, 90.90it/s]\n"
     ]
    },
    {
     "name": "stdout",
     "output_type": "stream",
     "text": [
      "[CV] END .................................C=100, gamma=0.001; total time=  54.4s\n"
     ]
    },
    {
     "name": "stderr",
     "output_type": "stream",
     "text": [
      "Feature Extraction: 100%|██████████| 2395/2395 [00:26<00:00, 91.08it/s] \n",
      "2025-10-02 23:48:23,880 - INFO - 2471833750 - Melatih pipeline pada matriks fitur berbentuk: (2395, 8370)\n",
      "Feature Extraction: 100%|██████████| 1197/1197 [00:13<00:00, 88.51it/s]\n"
     ]
    },
    {
     "name": "stdout",
     "output_type": "stream",
     "text": [
      "[CV] END .................................C=100, gamma=0.001; total time=  54.6s\n"
     ]
    },
    {
     "name": "stderr",
     "output_type": "stream",
     "text": [
      "Feature Extraction: 100%|██████████| 2395/2395 [00:26<00:00, 90.53it/s]\n",
      "2025-10-02 23:49:18,748 - INFO - 2471833750 - Melatih pipeline pada matriks fitur berbentuk: (2395, 8370)\n",
      "Feature Extraction: 100%|██████████| 1197/1197 [00:13<00:00, 88.95it/s]\n"
     ]
    },
    {
     "name": "stdout",
     "output_type": "stream",
     "text": [
      "[CV] END .................................C=100, gamma=0.001; total time=  55.3s\n"
     ]
    },
    {
     "name": "stderr",
     "output_type": "stream",
     "text": [
      "Feature Extraction: 100%|██████████| 2394/2394 [00:26<00:00, 90.41it/s]\n",
      "2025-10-02 23:50:14,182 - INFO - 2471833750 - Melatih pipeline pada matriks fitur berbentuk: (2394, 8370)\n",
      "Feature Extraction: 100%|██████████| 1198/1198 [00:13<00:00, 89.26it/s]\n"
     ]
    },
    {
     "name": "stdout",
     "output_type": "stream",
     "text": [
      "[CV] END .................................C=100, gamma=0.005; total time=  54.6s\n"
     ]
    },
    {
     "name": "stderr",
     "output_type": "stream",
     "text": [
      "Feature Extraction: 100%|██████████| 2395/2395 [00:26<00:00, 90.43it/s]\n",
      "2025-10-02 23:51:08,903 - INFO - 2471833750 - Melatih pipeline pada matriks fitur berbentuk: (2395, 8370)\n",
      "Feature Extraction: 100%|██████████| 1197/1197 [00:13<00:00, 89.17it/s]\n"
     ]
    },
    {
     "name": "stdout",
     "output_type": "stream",
     "text": [
      "[CV] END .................................C=100, gamma=0.005; total time=  54.5s\n"
     ]
    },
    {
     "name": "stderr",
     "output_type": "stream",
     "text": [
      "Feature Extraction: 100%|██████████| 2395/2395 [00:26<00:00, 91.04it/s]\n",
      "2025-10-02 23:52:03,354 - INFO - 2471833750 - Melatih pipeline pada matriks fitur berbentuk: (2395, 8370)\n",
      "Feature Extraction: 100%|██████████| 1197/1197 [00:13<00:00, 89.69it/s]\n"
     ]
    },
    {
     "name": "stdout",
     "output_type": "stream",
     "text": [
      "[CV] END .................................C=100, gamma=0.005; total time=  55.3s\n"
     ]
    },
    {
     "name": "stderr",
     "output_type": "stream",
     "text": [
      "Feature Extraction: 100%|██████████| 2394/2394 [00:26<00:00, 90.39it/s] \n",
      "2025-10-02 23:52:58,934 - INFO - 2471833750 - Melatih pipeline pada matriks fitur berbentuk: (2394, 8370)\n",
      "Feature Extraction: 100%|██████████| 1198/1198 [00:13<00:00, 89.03it/s]\n"
     ]
    },
    {
     "name": "stdout",
     "output_type": "stream",
     "text": [
      "[CV] END ................................C=100, gamma=0.0001; total time=  55.2s\n"
     ]
    },
    {
     "name": "stderr",
     "output_type": "stream",
     "text": [
      "Feature Extraction: 100%|██████████| 2395/2395 [00:26<00:00, 91.04it/s] \n",
      "2025-10-02 23:53:54,097 - INFO - 2471833750 - Melatih pipeline pada matriks fitur berbentuk: (2395, 8370)\n",
      "Feature Extraction: 100%|██████████| 1197/1197 [00:13<00:00, 85.97it/s]\n"
     ]
    },
    {
     "name": "stdout",
     "output_type": "stream",
     "text": [
      "[CV] END ................................C=100, gamma=0.0001; total time=  55.3s\n"
     ]
    },
    {
     "name": "stderr",
     "output_type": "stream",
     "text": [
      "Feature Extraction: 100%|██████████| 2395/2395 [00:26<00:00, 91.07it/s]\n",
      "2025-10-02 23:54:49,546 - INFO - 2471833750 - Melatih pipeline pada matriks fitur berbentuk: (2395, 8370)\n",
      "Feature Extraction: 100%|██████████| 1197/1197 [00:13<00:00, 86.52it/s]\n"
     ]
    },
    {
     "name": "stdout",
     "output_type": "stream",
     "text": [
      "[CV] END ................................C=100, gamma=0.0001; total time=  55.7s\n"
     ]
    },
    {
     "name": "stderr",
     "output_type": "stream",
     "text": [
      "Feature Extraction: 100%|██████████| 3592/3592 [00:39<00:00, 90.86it/s]\n",
      "2025-10-02 23:55:58,663 - INFO - 2471833750 - Melatih pipeline pada matriks fitur berbentuk: (3592, 8370)\n",
      "2025-10-02 23:56:40,013 - INFO - 4222293455 - \n",
      "Tuning selesai.\n",
      "2025-10-02 23:56:40,036 - INFO - 4222293455 - Parameter terbaik ditemukan: {'C': 1, 'gamma': 0.01}\n",
      "2025-10-02 23:56:40,037 - INFO - 4222293455 - Skor cross-validation terbaik: 0.8190\n",
      "2025-10-02 23:56:40,206 - INFO - 4222293455 - Model terintegrasi berhasil disimpan di c:\\Users\\HP\\Documents\\PythonProjects\\ML\\klasifikasi-cuaca-svm\\svm\\saved_models\\svm_model_integrated.pkl\n",
      "2025-10-02 23:56:40,208 - INFO - 4222293455 - Mengevaluasi model terintegrasi pada data uji...\n",
      "Feature Extraction: 100%|██████████| 225/225 [00:03<00:00, 68.41it/s]\n",
      "2025-10-02 23:56:43,927 - INFO - metrics - \n",
      "Akurasi Keseluruhan: 0.8533\n",
      "\n",
      "2025-10-02 23:56:43,929 - INFO - metrics - Laporan Klasifikasi:\n",
      "              precision    recall  f1-score   support\n",
      "\n",
      "      Cloudy       0.84      0.90      0.87        60\n",
      "        Rain       0.74      0.98      0.84        43\n",
      "       Shine       0.87      0.66      0.75        50\n",
      "     Sunrise       0.95      0.88      0.91        72\n",
      "\n",
      "    accuracy                           0.85       225\n",
      "   macro avg       0.85      0.85      0.84       225\n",
      "weighted avg       0.86      0.85      0.85       225\n",
      "\n",
      "2025-10-02 23:56:43,934 - INFO - metrics - Laporan klasifikasi disimpan di: c:\\Users\\HP\\Documents\\PythonProjects\\ML\\klasifikasi-cuaca-svm\\svm\\experiments\\results\\classification_report.txt\n",
      "2025-10-02 23:56:45,254 - INFO - metrics - Confusion matrix disimpan di: c:\\Users\\HP\\Documents\\PythonProjects\\ML\\klasifikasi-cuaca-svm\\svm\\experiments\\results\\confusion_matrix.png\n"
     ]
    }
   ],
   "source": [
    "images_orig, labels_orig, _ = load_images_from_folder(DATA_RAW_PATH, use_augmentation=False)\n",
    "X_orig = np.array(images_orig, dtype=object)\n",
    "y_orig = np.array(labels_orig)\n",
    "\n",
    "X_train_orig, X_test, y_train_orig, y_test = train_test_split(\n",
    "    X_orig, y_orig, test_size=TEST_SIZE, random_state=RANDOM_STATE, stratify=y_orig\n",
    ")\n",
    "logger.info(f\"Data asli dibagi: {len(X_train_orig)} train, {len(X_test)} test.\")\n",
    "\n",
    "X_train_augmented = []\n",
    "y_train_augmented = []\n",
    "logger.info(\"Menerapkan augmentasi pada data latih...\")\n",
    "for img, label in tqdm(zip(X_train_orig, y_train_orig), total=len(X_train_orig), desc=\"Augmenting Training Data\"):\n",
    "    augmented_images = augment_image(img)\n",
    "    for aug_img in augmented_images:\n",
    "        X_train_augmented.append(aug_img)\n",
    "        y_train_augmented.append(label)\n",
    "\n",
    "X_train = np.array(X_train_augmented, dtype=object)\n",
    "y_train = np.array(y_train_augmented)\n",
    "logger.info(f\"Ukuran data latih setelah augmentasi: {len(X_train)}\")\n",
    "\n",
    "param_grid = {\n",
    "    'C': [1, 10, 50, 100],\n",
    "    'gamma': [0.01, 0.001, 0.005, 0.0001],\n",
    "}\n",
    "\n",
    "integrated_model = IntegratedClassifier()\n",
    "\n",
    "logger.info(\"=\"*50)\n",
    "logger.info(\"MEMULAI TUNING HYPERPARAMETER UNTUK MODEL TERINTEGRASI\")\n",
    "logger.info(f\"Parameter Grid yang Diuji: {param_grid}\")\n",
    "logger.info(\"=\"*50)\n",
    "\n",
    "grid_search = GridSearchCV(integrated_model, param_grid, cv=3, verbose=2, n_jobs=1)\n",
    "grid_search.fit(X_train, y_train)\n",
    "\n",
    "logger.info(\"\\nTuning selesai.\")\n",
    "logger.info(f\"Parameter terbaik ditemukan: {grid_search.best_params_}\")\n",
    "logger.info(f\"Skor cross-validation terbaik: {grid_search.best_score_:.4f}\")\n",
    "\n",
    "best_model = grid_search.best_estimator_\n",
    "\n",
    "integrated_model_path = SAVED_MODEL_PATH.replace('svm_model.pkl', 'svm_model_integrated.pkl')\n",
    "os.makedirs(os.path.dirname(integrated_model_path), exist_ok=True)\n",
    "joblib.dump(best_model, integrated_model_path)\n",
    "logger.info(f\"Model terintegrasi berhasil disimpan di {integrated_model_path}\")\n",
    "logger.info(\"Mengevaluasi model terintegrasi pada data uji...\")\n",
    "y_pred = best_model.predict(X_test)\n",
    "\n",
    "evaluate_model(y_test, y_pred)\n",
    "plot_confusion_matrix(y_test, y_pred)"
   ]
  },
  {
   "cell_type": "markdown",
   "id": "588d63f5",
   "metadata": {},
   "source": [
    "## Hasil Evaluasi"
   ]
  },
  {
   "cell_type": "code",
   "execution_count": 9,
   "id": "377ff8df",
   "metadata": {},
   "outputs": [
    {
     "name": "stdout",
     "output_type": "stream",
     "text": [
      "--- Laporan Klasifikasi ---\n",
      "Akurasi Keseluruhan: 0.8533\n",
      "\n",
      "Laporan Klasifikasi:\n",
      "              precision    recall  f1-score   support\n",
      "\n",
      "      Cloudy       0.84      0.90      0.87        60\n",
      "        Rain       0.74      0.98      0.84        43\n",
      "       Shine       0.87      0.66      0.75        50\n",
      "     Sunrise       0.95      0.88      0.91        72\n",
      "\n",
      "    accuracy                           0.85       225\n",
      "   macro avg       0.85      0.85      0.84       225\n",
      "weighted avg       0.86      0.85      0.85       225\n",
      "\n"
     ]
    }
   ],
   "source": [
    "report_path = os.path.join(RESULTS_PATH, 'classification_report.txt')\n",
    "try:\n",
    "    with open(report_path, 'r') as f:\n",
    "        classification_report_content = f.read()\n",
    "    print(\"--- Laporan Klasifikasi ---\")\n",
    "    print(classification_report_content)\n",
    "except FileNotFoundError:\n",
    "    print(f\"File laporan klasifikasi tidak ditemukan di: {report_path}\")"
   ]
  },
  {
   "cell_type": "code",
   "execution_count": 10,
   "id": "18db832c",
   "metadata": {},
   "outputs": [
    {
     "data": {
      "image/png": "[encoded data removed]",
      "text/plain": [
       "<Figure size 1200x1000 with 1 Axes>"
      ]
     },
     "metadata": {},
     "output_type": "display_data"
    }
   ],
   "source": [
    "cm_path = os.path.join(RESULTS_PATH, 'confusion_matrix.png')\n",
    "try:\n",
    "    img = mpimg.imread(cm_path)\n",
    "    plt.figure(figsize=(12, 10))\n",
    "    plt.imshow(img)\n",
    "    plt.title('Confusion Matrix')\n",
    "    plt.axis('off')\n",
    "    plt.show()\n",
    "except FileNotFoundError:\n",
    "    print(f\"File confusion matrix tidak ditemukan di: {cm_path}\")"
   ]
  }
 ],
 "metadata": {
  "kernelspec": {
   "display_name": "Python 3",
   "language": "python",
   "name": "python3"
  },
  "language_info": {
   "codemirror_mode": {
    "name": "ipython",
    "version": 3
   },
   "file_extension": ".py",
   "mimetype": "text/x-python",
   "name": "python",
   "nbconvert_exporter": "python",
   "pygments_lexer": "ipython3",
   "version": "3.13.7"
  }
 },
 "nbformat": 4,
 "nbformat_minor": 5
}
